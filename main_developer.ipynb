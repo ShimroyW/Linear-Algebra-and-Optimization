{
 "cells": [
  {
   "cell_type": "code",
   "execution_count": 1,
   "id": "43def0c7-400e-4dc7-80f8-478ce3eab1e5",
   "metadata": {},
   "outputs": [],
   "source": [
    "'-------------------------------- Load in regular libraries ------------------------------------'\n",
    "import numpy as np\n",
    "import matplotlib.pyplot as plt"
   ]
  },
  {
   "cell_type": "code",
   "execution_count": 2,
   "id": "ab24bd29-c818-49b6-bdeb-ebf1d65eebad",
   "metadata": {},
   "outputs": [],
   "source": [
    "'-------------------------------- Load in custom libraries ------------------------------------'\n",
    "from src.Direct_Solvers import DirectSolver\n",
    "from src.Matrix_Properties import MatrixProperties"
   ]
  },
  {
   "cell_type": "code",
   "execution_count": 3,
   "id": "71e431a4-7160-4131-b3eb-d72fbf10428d",
   "metadata": {},
   "outputs": [],
   "source": [
    "'-------------------------------- Initialize custom libraries ------------------------------------'\n",
    "MAP = MatrixProperties()\n",
    "DS  = DirectSolver()"
   ]
  },
  {
   "cell_type": "code",
   "execution_count": 4,
   "id": "6ccb0e0b-3114-4ed7-93a9-2d638e8a5af8",
   "metadata": {},
   "outputs": [],
   "source": [
    "'-------------------------------- Load custom functions ------------------------------------'\n",
    "def _data_generation(nrows : float = 300, ncols : float = 20, noise_addition : bool = True) -> np.ndarray:\n",
    "    \n",
    "    \"\"\"\n",
    "    Args:\n",
    "         nrows          : number of rows for data matrix X.\n",
    "         ncols          : number of cols for data matrix X.\n",
    "         noise_addition : add noise to output vector y (True/False).\n",
    "        \n",
    "    \"\"\"\n",
    "    \n",
    "    # Create matrix with uniformly random variables:\n",
    "    X = np.random.uniform(low = 0, high = 1, size = (nrows, ncols))    \n",
    "\n",
    "    # Weight vector w and noise:  \n",
    "    w = np.random.uniform(low = 0, high = 1, size = (ncols, 1))      \n",
    "    y = np.matmul(X, w)\n",
    "    \n",
    "    # noise addition of selected\n",
    "    if noise_addition:\n",
    "        noise = np.random.normal(loc = 0, scale = 1, size = (nrows, 1))   \n",
    "        y    += noise\n",
    "\n",
    "    return X, w, y\n",
    "\n",
    "def _data_splitting(X : np.ndarray, y : np.ndarray, mode : str, nrows_train : float) -> np.ndarray:\n",
    "    \n",
    "    \"\"\"\n",
    "    Args:\n",
    "         X           : data matrix X.\n",
    "         y           : output vector y.\n",
    "         mode        : mode for splitting -> ratio takes a percentage of the available rows and index splits the data untill the given index value.\n",
    "         nrows_train : in case of mode ratio give a value between 0 and 1 and in case of mode index give an index value between 0 and max nr. of rows of matrix X (or vector y)\n",
    "        \n",
    "    \"\"\"\n",
    "    \n",
    "    # Initialize train and test sets:\n",
    "    X_train   = np.zeros((1, X.shape[1]))\n",
    "    y_train   = np.zeros(1)\n",
    "    \n",
    "    X_test    = np.zeros((1, X.shape[1]))\n",
    "    y_test    = np.zeros(1)\n",
    "        \n",
    "    # Select total rows of matrix X\n",
    "    nrows_tot = X.shape[0]\n",
    "    \n",
    "    # Split data set:\n",
    "    match mode:\n",
    "        case 'ratio':\n",
    "            \n",
    "            if (nrows_train > 0) & (nrows_train <= 1):\n",
    "                \n",
    "                if nrows_train*nrows_tot % 1 > 0:\n",
    "                    print(f'For the given value of nrows_train a remainder has been found of {nrows_train*nrows_tot % 1}. Therefore, the ratio has been adjusted to: {int(nrows_tot*nrows_train)/nrows_tot}.')\n",
    "                    \n",
    "                # Generate train set:\n",
    "                X_train = X[0 : int(nrows_tot*nrows_train), :]\n",
    "                y_train = y[0 : int(nrows_tot*nrows_train)]\n",
    "                \n",
    "                # Generate test set:\n",
    "                X_test  = X[int(nrows_tot*nrows_train):, :]\n",
    "                y_test  = y[int(nrows_tot*nrows_train):]    \n",
    "                \n",
    "                \n",
    "            else:\n",
    "                print('The parameter \"nrows_train\" has to be between 0 and 1 for mode: ratio')\n",
    "            \n",
    "        \n",
    "        case 'index':\n",
    "            \n",
    "            if (nrows_train > 0) & (nrows_train <= nrows_tot):\n",
    "                \n",
    "                # Generate train set:\n",
    "                X_train = X[0 : nrows_train, :]\n",
    "                y_train = y[0 : nrows_train]\n",
    "                \n",
    "                # Generate test set:\n",
    "                X_test  = X[nrows_train:, :]\n",
    "                y_test  = y[nrows_train:]    \n",
    "                \n",
    "                \n",
    "            else:\n",
    "                print('The parameter \"nrows_train\" has to be between 0 and max nr. of rows of X for mode: index')\n",
    "                \n",
    "        case _:\n",
    "            \n",
    "            print('Please select either the \"ratio\" or \"columns\" mode.')\n",
    "            \n",
    "            \n",
    "    return X_train, y_train, X_test, y_test\n"
   ]
  },
  {
   "cell_type": "code",
   "execution_count": 7,
   "id": "9d350e3f-20af-41b7-88a3-af3c8c47cdd6",
   "metadata": {},
   "outputs": [
    {
     "name": "stdout",
     "output_type": "stream",
     "text": [
      "Condition number of the matrix is: 10.786302212055938\n",
      "Matrix has full rank, with rank: 20.\n"
     ]
    }
   ],
   "source": [
    "\" ---------------------------------------- Generate & Test Data ---------------------------------------------- \"\n",
    "# Generate data:\n",
    "X, w, y = _data_generation(nrows = 300, ncols = 20, noise_addition = True)\n",
    "\n",
    "# Split data:\n",
    "X_train, y_train, X_test, y_test = _data_splitting(X = X, y = y, mode = 'ratio', nrows_train = 0.8)\n",
    "\n",
    "# Compute condition number:\n",
    "kappa = MAP._condition_number(np.matmul(X_train.transpose(), X_train))\n",
    "\n",
    "# Compute rank:\n",
    "rank = MAP._rank(np.matmul(X_train.transpose(), X_train))"
   ]
  },
  {
   "cell_type": "code",
   "execution_count": 8,
   "id": "31ac5aac-ed74-45c3-a842-d77a637c252f",
   "metadata": {},
   "outputs": [
    {
     "name": "stdout",
     "output_type": "stream",
     "text": [
      "J_train(w) = 107.63433709286444\n",
      "J_test(w) = 28.04309306339497\n"
     ]
    }
   ],
   "source": [
    "\" ---------------------------------------- Solve ---------------------------------------------- \"\n",
    "mode = 'Cholesky'\n",
    "\n",
    "# Solve with LU Factorization:\n",
    "L, U, q, w = DS._solver(np.matmul(X_train.transpose(), X_train), np.matmul(X_train.transpose(), y_train), mode = mode)\n",
    "\n",
    "# Compute cost function:\n",
    "J_train = (1/2)*np.linalg.norm(np.matmul(X_train, w) - y_train)**2\n",
    "J_test  = (1/2)*np.linalg.norm(np.matmul(X_test, w) - y_test)**2\n",
    "\n",
    "print(f'J_train(w) = {J_train}')\n",
    "print(f'J_test(w) = {J_test}')"
   ]
  },
  {
   "cell_type": "code",
   "execution_count": null,
   "id": "22969cd6-ae31-4835-9e71-cbe02685f199",
   "metadata": {},
   "outputs": [],
   "source": []
  }
 ],
 "metadata": {
  "kernelspec": {
   "display_name": "Python 3 (ipykernel)",
   "language": "python",
   "name": "python3"
  },
  "language_info": {
   "codemirror_mode": {
    "name": "ipython",
    "version": 3
   },
   "file_extension": ".py",
   "mimetype": "text/x-python",
   "name": "python",
   "nbconvert_exporter": "python",
   "pygments_lexer": "ipython3",
   "version": "3.10.9"
  }
 },
 "nbformat": 4,
 "nbformat_minor": 5
}
